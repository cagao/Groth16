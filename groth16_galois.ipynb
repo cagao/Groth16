{
 "cells": [
  {
   "cell_type": "markdown",
   "metadata": {},
   "source": [
    "# Groth16\n",
    "\n",
    "At Eurocrypt 2016, Jens Groth published a [paper](https://eprint.iacr.org/2016/260.pdf) where he formalized a proving system that significantly improved performance compared to Pinocchio. In particular, for arithmetic circuits, proofs consist of only 2 elements in G1 and 1 in G2, compared to Pinocchio’s 7 elements in G1, and 1 in G2. Furthermore, verification is faster, with just 3 pairings instead of 12. The CRS is also shorter.\n",
    "\n",
    "Groth16 needs one setup for each circuit compared to universal setup for PLONK protocol"
   ]
  },
  {
   "cell_type": "markdown",
   "metadata": {},
   "source": [
    "## Problem Statement\n",
    "\n",
    "Use Groth16 to prove a statement without leaking any other information.\n",
    "\n",
    "Statement:\n",
    "\n",
    "$x^3 + x + 5 = 35$\n",
    "\n",
    "solution $x = 3$\n",
    "\n",
    "this value will remain private, it will never be sent to the verifier.\n"
   ]
  },
  {
   "cell_type": "markdown",
   "metadata": {},
   "source": [
    "## Arithmetic Circuit\n",
    "\n",
    "The equation $x^3 + x + 5 = 35$ can be break down into an arithmetic circuit:\n",
    "\n",
    "```mermaid\n",
    "%%{ init : { \"theme\" : \"default\", \"flowchart\" : { \"curve\" : \"linear\" }}}%%\n",
    "graph LR\n",
    "A(x)\n",
    "B(x)\n",
    "M1($$*$$)\n",
    "\n",
    "A-->M1\n",
    "B-->M1\n",
    "M1-->sym1\n",
    "\n",
    "C(x)\n",
    "M2($$*$$)\n",
    "sym1-->M2\n",
    "C-->M2\n",
    "M2-->y\n",
    "\n",
    "M3($$+$$)\n",
    "D(x)-->M3\n",
    "y-->M3\n",
    "M3-->sym2\n",
    "\n",
    "M4($$+$$)\n",
    "5-->M4\n",
    "sym2-->M4\n",
    "M4-->Cut(out=35)\n",
    "```\n",
    "\n",
    "From this arithmetic circuit, we can define a set of constraints which has the form $O = L * R$\n",
    "\n",
    "$\n",
    "\\begin{aligned}\n",
    "sym_1 &= x * x \\\\\n",
    "y &= sym_1 * x \\\\\n",
    "sym_2 &= x + y \\quad &\\rarr sym_2 = (x + y) * 1 \\\\\n",
    "out &= sym_2 + 5 &\\rarr out = (sym_2 + 5) * 1 \\\\\n",
    "\\end{aligned}\n",
    "$\n"
   ]
  },
  {
   "cell_type": "markdown",
   "metadata": {},
   "source": [
    "## Rank 1 Constraint System\n",
    "\n",
    "We have a proper $O = L * R$ form, we can create 4 matrices.\n",
    "The first matrix is named $w$. It is known as the *witness* matrix.\n",
    "The value of $w$ elements are known by the prover.\n",
    "\n",
    "$\\vec{s} = (1, out, x, y, sym_1, sym_2)$\n",
    "\n",
    "Then, we can produce 3 matrices that will represent the constraints.\n",
    "It sort of represents the way the $w$ elements are interconnected.\n",
    "Those 3 matrices will be named $A$, $B$ and $C$.\n",
    "\n",
    "$\n",
    "\\begin{bmatrix}\n",
    "0 & 0 & 1 & 0 & 0 & 0 \\\\\n",
    "0 & 0 & 0 & 0 & 1 & 0 \\\\\n",
    "0 & 0 & \\fbox{1} & \\fbox{1} & 0 & 0 \\\\\n",
    "5 & 0 & 0 & 0 & 0 & 1 \\\\\n",
    "\\end{bmatrix}\n",
    "\\begin{bmatrix}\n",
    "1 \\\\\n",
    "out \\\\\n",
    "\\fbox{x} \\\\\n",
    "\\fbox{y} \\\\\n",
    "sym_1 \\\\\n",
    "sym_2 \\\\\n",
    "\\end{bmatrix}\n",
    "\\odot\n",
    "\\begin{bmatrix}\n",
    "0 & 0 & 1 & 0 & 0 & 0 \\\\\n",
    "0 & 0 & 1 & 0 & 0 & 0 \\\\\n",
    "\\fbox{1} & 0 & 0 & 0 & 0 & 0 \\\\\n",
    "1 & 0 & 0 & 0 & 0 & 0 \\\\\n",
    "\\end{bmatrix}\n",
    "\\begin{bmatrix}\n",
    "\\fbox{1} \\\\\n",
    "out \\\\\n",
    "x \\\\\n",
    "y \\\\\n",
    "sym_1 \\\\\n",
    "sym_2\n",
    "\\end{bmatrix}\n",
    "\\text {=}\n",
    "\\begin{bmatrix}\n",
    "0 & 0 & 0 & 0 & 1 & 0 \\\\\n",
    "0 & 0 & 0 & 1 & 0 & 0 \\\\\n",
    "0 & 0 & 0 & 0 & 0 & \\fbox{1} \\\\\n",
    "0 & 1 & 0 & 0 & 0 & 0\n",
    "\\end{bmatrix}\n",
    "\\begin{bmatrix}\n",
    "1 \\\\\n",
    "out \\\\\n",
    "x \\\\\n",
    "y \\\\\n",
    "sym_1 \\\\\n",
    "\\boxed{sym_{2}} \\\\\n",
    "\\end{bmatrix} \\\\\n",
    "$\n",
    "\n",
    "The final R1CS representation is $(A \\cdot w)\\odot(B \\cdot w) = C \\cdot w$\n",
    "Each column of the matrices $A,B,C$ corresponds to an element of $w$.\n",
    "Each row of the matrices $A,B,C$ corresponds to one of the constraints of the arithmetic circuit.\n",
    "\n",
    "For example, let's take the 3rd row of $L, R, O$.\n",
    "In $L$, the value $1$ is set at the $3^{rd}$ and $4^{th}$ column.\n",
    "The $3^{rd}$ and $4^{th}$ column of $w$ is the $x, y$ variable separately.\n",
    "So, the 3rd row of $A$ encodes $1 \\cdot x + 1 \\cdot y$.\n",
    "The same logic applies to $B$, its 3rd row encodes $1 \\cdot 1$.\n",
    "And for $C$, the 3rd row encodes $1 \\cdot sym_2$.\n",
    "If we put it all together, the $Cw = Aw \\odot Bw$ gives $sym_2 = (x + y) * 1$ which correspond to our 3rd constraints defined previously.\n",
    "\n",
    "Let's verify that the computing of $Os = Ls \\odot Rs$ is correct.\n",
    "We will use Python and numpy for this.\n",
    "As we are working on a finite field, negative number will be modified.\n",
    "For example, in $F_p$, $-1 (mod\\ p)= p-1$."
   ]
  },
  {
   "cell_type": "code",
   "execution_count": 1,
   "metadata": {},
   "outputs": [
    {
     "name": "stderr",
     "output_type": "stream",
     "text": [
      "/Users/cameo.gao/zksnark/py-snark/.venv/lib/python3.12/site-packages/eth_utils/network.py:61: UserWarning: Network 345 with name 'Yooldo Verse Mainnet' does not have a valid ChainId. eth-typing should be updated with the latest networks.\n",
      "  networks = initialize_network_objects()\n",
      "/Users/cameo.gao/zksnark/py-snark/.venv/lib/python3.12/site-packages/eth_utils/network.py:61: UserWarning: Network 12611 with name 'Astar zkEVM' does not have a valid ChainId. eth-typing should be updated with the latest networks.\n",
      "  networks = initialize_network_objects()\n"
     ]
    },
    {
     "name": "stdout",
     "output_type": "stream",
     "text": [
      "curve order:  21888242871839275222246405745257275088548364400416034343698204186575808495617\n",
      "field modulus:  21888242871839275222246405745257275088696311157297823662689037894645226208583\n",
      "GF21888242871839275222246405745257275088548364400416034343698204186575808495617 initializing takes 126.77771019935608 seconds\n",
      "w =  [ 1 35  3 27  9 30]\n",
      "Aw =  [ 3  9 30 35]\n",
      "Bw =  [3 3 1 1]\n",
      "Aw * Bw =  [ 9 27 30 35]\n",
      "Cw =  [ 9 27 30 35]\n"
     ]
    }
   ],
   "source": [
    "import galois\n",
    "import numpy as np\n",
    "import py_ecc.bn128 as bn128\n",
    "import time\n",
    "\n",
    "print(\"curve order: \", bn128.curve_order)\n",
    "print(\"field modulus: \", bn128.field_modulus)\n",
    "\n",
    "# p = 101\n",
    "p = bn128.curve_order\n",
    "\n",
    "start_time = time.time()\n",
    "GF = galois.GF(p)\n",
    "print(f\"GF{p} initializing takes {time.time() - start_time} seconds\")\n",
    "\n",
    "x = 3\n",
    "sym_1 = x * x\n",
    "y = sym_1 * x\n",
    "sym_2 = y + x\n",
    "out = sym_2 + 5\n",
    "\n",
    "w = GF([1, out, x, y, sym_1, sym_2])\n",
    "print(\"w = \", w)\n",
    "\n",
    "A = GF(\n",
    "    [\n",
    "        [0, 0, 1, 0, 0, 0],\n",
    "        [0, 0, 0, 0, 1, 0],\n",
    "        [0, 0, 1, 1, 0, 0],\n",
    "        [5, 0, 0, 0, 0, 1],\n",
    "    ]\n",
    ")\n",
    "\n",
    "B = GF(\n",
    "    [\n",
    "        [0, 0, 1, 0, 0, 0],\n",
    "        [0, 0, 1, 0, 0, 0],\n",
    "        [1, 0, 0, 0, 0, 0],\n",
    "        [1, 0, 0, 0, 0, 0],\n",
    "    ]\n",
    ")\n",
    "\n",
    "C = GF(\n",
    "    [\n",
    "        [0, 0, 0, 0, 1, 0],\n",
    "        [0, 0, 0, 1, 0, 0],\n",
    "        [0, 0, 0, 0, 0, 1],\n",
    "        [0, 1, 0, 0, 0, 0],\n",
    "    ]\n",
    ")\n",
    "\n",
    "Aw = np.dot(A, w)\n",
    "Bw = np.dot(B, w)\n",
    "Cw = np.dot(C, w)\n",
    "\n",
    "print(\"Aw = \", Aw)\n",
    "print(\"Bw = \", Bw)\n",
    "\n",
    "\n",
    "AwBw = np.multiply(Aw, Bw)  # Aw * Bw\n",
    "print(\"Aw * Bw = \", AwBw)\n",
    "print(\"Cw = \", Cw)\n",
    "\n",
    "assert np.all([AwBw, Cw]), \"Az o Bz != Cz\""
   ]
  },
  {
   "cell_type": "markdown",
   "metadata": {},
   "source": [
    "## QAP\n",
    "\n",
    "The next step is to transform this R1CS into a Quadratic Arithmetic Program (QAP).\n",
    "\n",
    "This transformation consists of turning our constraint matrices into polynomials.\n",
    "The main goal of this transformation is **succinctness**.\n",
    "Thanks to the Schwartz-Zippel Lemma, we know that evaluating two polynomials at a random point $x$ allows to nearly be certain that they are the same polynomial if they return the same value $y$.\n",
    "In summary, if $P_1(\\tau) == P_2(\\tau)$, then $P1 == P2$, with $\\tau$ being a random number.\n",
    "This evaluation is way more succinct than matrices evaluation.\n",
    "\n",
    "To achieve succinctness, we will derivate a QAP from our R1CS.\n",
    "Our goal is to get $A(x) * B(x) = C(x)$ if $Aw \\odot Bw = Cw$.\n",
    "The transformation is made possible thanks to a ring homomorphism between matrices and polynomials.\n",
    "\n",
    "The created polynomials must encode the same information as our R1CS matrices, but uniquely at the points at which it will be evaluated.\n",
    "As we have 4 constraints, we will evaluate our polynomials at $x=[1,2,3,4]$, or at $x = \\{1, \\omega, \\omega^2, \\ldots, \\omega^{n-1} \\}$ to speed up the computation for verifier.\n",
    "\n",
    "### Root of Unity\n",
    "\n",
    "The domain that is used for polynomial interpolation consists of roots of unity. The $n^{th}$ roots of unity of a field are the field elements $\\omega$ that satisfy $\\omega^n =1$.\n",
    "\n",
    "For example, the base field $\\mathbb F_{17}$ has exactly $4^{th}$ roots of unity. Finding the $4^{th}$ roots of unity in $\\mathbb F_{17}$ isn't too difficult:\n",
    "\n",
    "Suppose $\\omega_0, ..., \\omega_{n-1}$’s are the roots of unity such that\n",
    "\n",
    "- roots of $x^n = 1$\n",
    "- $\\omega_i = \\omega_1^i = \\omega^i$\n",
    "- $\\omega_i \\neq \\omega_j$\n",
    "\n",
    "\n",
    "### R1CS to QAP\n",
    "For each column of each matrix, we will interpolate a polynomial.\n",
    "The interpolation will be done using Lagrange interpolation.\n",
    "The interpolated polynomial will encode all the values of the column.\n",
    "\n",
    "For example, the third column of $A$ is:\n",
    "$$\\begin{bmatrix} 1 \\\\ 0 \\\\ 1 \\\\ 0 \\\\ \\end{bmatrix}$$\n",
    "\n",
    "So, the interpolated polynomial $A_3(x)$ must return the following values:\n",
    "\n",
    "$\n",
    "\\begin{aligned}\n",
    "A_3(1) &= 1 \\\\\n",
    "A_3(\\omega) &= 0 \\\\\n",
    "A_3(\\omega^{2}) &= 1 \\\\\n",
    "A_3(\\omega^{3}) &= 0 \\\\\n",
    "\\end{aligned}\n",
    "$\n",
    "\n",
    "$\n",
    "\\left(\\sum_{i=0}^n u_i \\cdot l_i(x)\\right)  \\cdot \\left(\\sum_{i=0}^n u_i \\cdot r_i(x)\\right) - \\left(\\sum_{i=0}^n u_i \\cdot o_i(x)\\right) = t(x)h(x)\n",
    "$\n",
    "\n",
    "$\n",
    "\\overrightarrow{A(X)}=(A_0(X),A_1(X),A_2(X),A_3(X),A_4(X),A_5(X)) \\\\\n",
    "\\overrightarrow{B(X)}=(B_0(X),B_1(X),B_2(X),B_3(X),B_4(X),B_5(X)) \\\\\n",
    "\\overrightarrow{C(X)}=(C_0(X),C_1(X),C_2(X),C_3(X),C_4(X),C_5(X))\n",
    "$\n",
    "\n",
    "$\n",
    "A(X)=\\langle \\overrightarrow{A(X)},w \\rangle \\\\\n",
    "B(X)=\\langle \\overrightarrow{B(X)},w \\rangle \\\\\n",
    "C(X)=\\langle \\overrightarrow{C(X)},w \\rangle\n",
    "$\n"
   ]
  },
  {
   "cell_type": "code",
   "execution_count": 2,
   "metadata": {},
   "outputs": [
    {
     "data": {
      "text/plain": [
       "GF([                                                                            1,\n",
       "    21888242871839275217838484774961031246007050428528088939761107053157389710902,\n",
       "    21888242871839275222246405745257275088548364400416034343698204186575808495616,\n",
       "                       4407920970296243842541313971887945403937097133418418784715],\n",
       "   order=21888242871839275222246405745257275088548364400416034343698204186575808495617)"
      ]
     },
     "metadata": {},
     "output_type": "display_data"
    },
    {
     "data": {
      "text/plain": [
       "GF([1, 0, 1, 0],\n",
       "   order=21888242871839275222246405745257275088548364400416034343698204186575808495617)"
      ]
     },
     "metadata": {},
     "output_type": "display_data"
    },
    {
     "data": {
      "text/plain": [
       "Poly(10944121435919637611123202872628637544274182200208017171849102093287904247809x^2 + 10944121435919637611123202872628637544274182200208017171849102093287904247809, GF(21888242871839275222246405745257275088548364400416034343698204186575808495617))"
      ]
     },
     "metadata": {},
     "output_type": "display_data"
    },
    {
     "name": "stdout",
     "output_type": "stream",
     "text": [
      "A3_poly(1) == 1: True\n",
      "A3_poly(21888242871839275217838484774961031246007050428528088939761107053157389710902) == 0: True\n",
      "A3_poly(21888242871839275222246405745257275088548364400416034343698204186575808495616) == 1: True\n",
      "A3_poly(4407920970296243842541313971887945403937097133418418784715) == 0: True\n"
     ]
    }
   ],
   "source": [
    "# import sympy as sp\n",
    "\n",
    "# number of rows\n",
    "m = A.shape[0]\n",
    "\n",
    "# number of columns\n",
    "n = A.shape[1]\n",
    "\n",
    "omega = GF.primitive_root_of_unity(m)\n",
    "\n",
    "root_of_unities = GF([omega**i for i in range(m)])\n",
    "display(root_of_unities)\n",
    "\n",
    "# get smallest root, False in the parameter\n",
    "# root_of_unities_1 = sp.nthroot_mod(1, m, p, True)\n",
    "\n",
    "# column 3 of matrix A\n",
    "A3 = A.T[2]\n",
    "display(A3)\n",
    "\n",
    "\n",
    "# lagrange interpolate the column to a polynomial\n",
    "A3_poly = galois.lagrange_poly(root_of_unities, A3)\n",
    "display(A3_poly)\n",
    "\n",
    "# # Checking each column element\n",
    "print(f\"A3_poly({omega**0}) == 1: {A3_poly(omega**0) == 1}\")\n",
    "print(f\"A3_poly({omega**1}) == 0: {A3_poly(omega**1) == 0}\")\n",
    "print(f\"A3_poly({omega**2}) == 1: {A3_poly(omega**2) == 1}\")\n",
    "print(f\"A3_poly({omega**3}) == 0: {A3_poly(omega**3) == 0}\")"
   ]
  },
  {
   "cell_type": "code",
   "execution_count": 3,
   "metadata": {},
   "outputs": [
    {
     "name": "stdout",
     "output_type": "stream",
     "text": [
      "rows = 4, columns = 6\n",
      "omega =  21888242871839275217838484774961031246007050428528088939761107053157389710902\n"
     ]
    },
    {
     "data": {
      "text/plain": [
       "[Poly(5472060717959818811071502649184623575313733564963940340845922463416975604798x^3 + 5472060717959818805561601436314318772137091100104008585924551046643952123903x^2 + 16416182153879456411174903096072651513234630835452094002852281723158832890819x + 16416182153879456416684804308942956316411273300312025757773653139931856371714, GF(21888242871839275222246405745257275088548364400416034343698204186575808495617)),\n",
       " Poly(0, GF(21888242871839275222246405745257275088548364400416034343698204186575808495617)),\n",
       " Poly(10944121435919637611123202872628637544274182200208017171849102093287904247809x^2 + 10944121435919637611123202872628637544274182200208017171849102093287904247809, GF(21888242871839275222246405745257275088548364400416034343698204186575808495617)),\n",
       " Poly(5472060717959818805561601436314318772137091100104008585924551046643952123904x^3 + 16416182153879456416684804308942956316411273300312025757773653139931856371713x^2 + 5472060717959818805561601436314318772137091100104008585924551046643952123904x + 16416182153879456416684804308942956316411273300312025757773653139931856371713, GF(21888242871839275222246405745257275088548364400416034343698204186575808495617)),\n",
       " Poly(16416182153879456415582824066368895355775944807340039406789378856577251675534x^3 + 5472060717959818805561601436314318772137091100104008585924551046643952123904x^2 + 5472060717959818806663581678888379732772419593075994936908825329998556820083x + 16416182153879456416684804308942956316411273300312025757773653139931856371713, GF(21888242871839275222246405745257275088548364400416034343698204186575808495617)),\n",
       " Poly(5472060717959818806663581678888379732772419593075994936908825329998556820083x^3 + 5472060717959818805561601436314318772137091100104008585924551046643952123904x^2 + 16416182153879456415582824066368895355775944807340039406789378856577251675534x + 16416182153879456416684804308942956316411273300312025757773653139931856371713, GF(21888242871839275222246405745257275088548364400416034343698204186575808495617))]"
      ]
     },
     "metadata": {},
     "output_type": "display_data"
    },
    {
     "data": {
      "text/plain": [
       "[Poly(10944121435919637612225183115202698504909510693180003522833376376642508943987x^3 + 21888242871839275221144425502683214127913035907444047992713929903221203799438x + 10944121435919637611123202872628637544274182200208017171849102093287904247809, GF(21888242871839275222246405745257275088548364400416034343698204186575808495617)),\n",
       " Poly(0, GF(21888242871839275222246405745257275088548364400416034343698204186575808495617)),\n",
       " Poly(10944121435919637610021222630054576583638853707236030820864827809933299551630x^3 + 1101980242574060960635328492971986350984274283354604696179x + 10944121435919637611123202872628637544274182200208017171849102093287904247809, GF(21888242871839275222246405745257275088548364400416034343698204186575808495617)),\n",
       " Poly(0, GF(21888242871839275222246405745257275088548364400416034343698204186575808495617)),\n",
       " Poly(0, GF(21888242871839275222246405745257275088548364400416034343698204186575808495617)),\n",
       " Poly(0, GF(21888242871839275222246405745257275088548364400416034343698204186575808495617))]"
      ]
     },
     "metadata": {},
     "output_type": "display_data"
    },
    {
     "data": {
      "text/plain": [
       "[Poly(0, GF(21888242871839275222246405745257275088548364400416034343698204186575808495617)),\n",
       " Poly(5472060717959818806663581678888379732772419593075994936908825329998556820083x^3 + 5472060717959818805561601436314318772137091100104008585924551046643952123904x^2 + 16416182153879456415582824066368895355775944807340039406789378856577251675534x + 16416182153879456416684804308942956316411273300312025757773653139931856371713, GF(21888242871839275222246405745257275088548364400416034343698204186575808495617)),\n",
       " Poly(0, GF(21888242871839275222246405745257275088548364400416034343698204186575808495617)),\n",
       " Poly(16416182153879456415582824066368895355775944807340039406789378856577251675534x^3 + 5472060717959818805561601436314318772137091100104008585924551046643952123904x^2 + 5472060717959818806663581678888379732772419593075994936908825329998556820083x + 16416182153879456416684804308942956316411273300312025757773653139931856371713, GF(21888242871839275222246405745257275088548364400416034343698204186575808495617)),\n",
       " Poly(16416182153879456416684804308942956316411273300312025757773653139931856371713x^3 + 16416182153879456416684804308942956316411273300312025757773653139931856371713x^2 + 16416182153879456416684804308942956316411273300312025757773653139931856371713x + 16416182153879456416684804308942956316411273300312025757773653139931856371713, GF(21888242871839275222246405745257275088548364400416034343698204186575808495617)),\n",
       " Poly(5472060717959818805561601436314318772137091100104008585924551046643952123904x^3 + 16416182153879456416684804308942956316411273300312025757773653139931856371713x^2 + 5472060717959818805561601436314318772137091100104008585924551046643952123904x + 16416182153879456416684804308942956316411273300312025757773653139931856371713, GF(21888242871839275222246405745257275088548364400416034343698204186575808495617))]"
      ]
     },
     "metadata": {},
     "output_type": "display_data"
    },
    {
     "data": {
      "text/plain": [
       "[Poly(5472060717959818834213087743239903748655631917375653711515682413863674224545x^3 + 16416182153879456416684804308942956316411273300312025757773653139931856371710x^2 + 5472060717959818776910115129388733795618550282832363460333419679424230023250x + 16416182153879456416684804308942956316411273300312025757773653139931856371732, GF(21888242871839275222246405745257275088548364400416034343698204186575808495617)),\n",
       " Poly(21888242871839275220042445260109153167277707414472061641729655619866599103260x^3 + 2203960485148121921270656985943972701968548566709209392358x + 2, GF(21888242871839275222246405745257275088548364400416034343698204186575808495617)),\n",
       " Poly(5472060717959818814377443376906806457219719043879899393798745313480789693329x^3 + 16416182153879456416684804308942956316411273300312025757773653139931856371707x^2 + 5472060717959818796745759495721831087054463156328117778050356779807114554469x + 16416182153879456416684804308942956316411273300312025757773653139931856371738, GF(21888242871839275222246405745257275088548364400416034343698204186575808495617))]"
      ]
     },
     "metadata": {},
     "output_type": "display_data"
    },
    {
     "name": "stdout",
     "output_type": "stream",
     "text": [
      "poly (A(x)*w) = 5472060717959818834764077864526934228973296163861646887007819555540976572641x^6 + 5472060717959818811622492770471654055631397811449933516338059605094277952886x^5 + 5472060717959818805561601436314318772137091100104008585924551046643952123891x^4 + 5472060717959818814377443376906806457219719043879899393798745313480789693329x^3 + 10944121435919637581920726444416022087437977136450378870765833584390879799066x^2 + 21888242871839275207369672470507452119971429745294218605410501361288645097200x + 10944121435919637611123202872628637544274182200208017171849102093287904247847\n",
      "poly (C(x)*w) = 5472060717959818814377443376906806457219719043879899393798745313480789693329x^3 + 16416182153879456416684804308942956316411273300312025757773653139931856371707x^2 + 5472060717959818796745759495721831087054463156328117778050356779807114554469x + 16416182153879456416684804308942956316411273300312025757773653139931856371738\n",
      "\n",
      "random r = 6167605935051252278933054557938719005861318741225165707610602825059354953881，\n",
      "poly_a(r) = 15846086080345322277704400882701290983085033797664266340952782244640485693563,\n",
      "poly_b(r) = 20677089728601896318709877261516116390431799333213935500414974143266551147273,\n",
      "poly_a(r) * poly_b(r) = 460820839781334777778568015039688510310424907679354932940807186748712628903,\n",
      "poly_c(r) = 15244677980387324261966026427438353688340941942815355993832967729998338899112\n",
      "\n"
     ]
    }
   ],
   "source": [
    "# number of rows\n",
    "m = A.shape[0]\n",
    "\n",
    "# number of columns\n",
    "n = A.shape[1]\n",
    "\n",
    "print(f\"rows = {m}, columns = {n}\")\n",
    "\n",
    "matrixes = [A, B, C]\n",
    "\n",
    "omega = GF.primitive_root_of_unity(m)\n",
    "assert omega ** (m) == 1, f\"omega {omega} is not a root of unity\"\n",
    "print(\"omega = \", omega)\n",
    "\n",
    "root_of_unities = GF([omega**i for i in range(m)])\n",
    "\n",
    "constraint_poly_vectors = []\n",
    "constraint_witness_poly_vectors = []\n",
    "\n",
    "for matrix in matrixes:\n",
    "    poly_vector = []\n",
    "\n",
    "    for values in matrix.T:\n",
    "        assert len(values) == len(root_of_unities), \"interpolate pair should be matched\"\n",
    "\n",
    "        # lagrange interpolate the column to a polynomial\n",
    "        poly = galois.lagrange_poly(root_of_unities, values)\n",
    "        poly_vector.append(poly)\n",
    "\n",
    "    constraint_poly_vectors.append(poly_vector)\n",
    "    display(poly_vector)\n",
    "\n",
    "for poly_vector in constraint_poly_vectors:\n",
    "    constraint_witness_poly = galois.Poly([0], field=GF)\n",
    "    for poly_i, witness_i in zip(poly_vector, w):\n",
    "        constraint_witness_poly += poly_i * witness_i\n",
    "    constraint_witness_poly_vectors.append(constraint_witness_poly)\n",
    "\n",
    "display(constraint_witness_poly_vectors)\n",
    "\n",
    "A_witness_poly = constraint_witness_poly_vectors[0]\n",
    "B_witness_poly = constraint_witness_poly_vectors[1]\n",
    "C_witness_poly = constraint_witness_poly_vectors[2]\n",
    "\n",
    "print(f\"poly (A(x)*w) = {A_witness_poly * B_witness_poly}\")\n",
    "print(f\"poly (C(x)*w) = {C_witness_poly}\")\n",
    "\n",
    "r = GF.Random()\n",
    "\n",
    "output = \"\"\"\n",
    "random r = {0}，\n",
    "poly_a(r) = {1},\n",
    "poly_b(r) = {2},\n",
    "poly_a(r) * poly_b(r) = {3},\n",
    "poly_c(r) = {4}\n",
    "\"\"\"\n",
    "formatted_output = output.format(\n",
    "    r,\n",
    "    A_witness_poly(r),\n",
    "    B_witness_poly(r),\n",
    "    A_witness_poly(r) * B_witness_poly(r),\n",
    "    C_witness_poly(r),\n",
    ")\n",
    "print(formatted_output)"
   ]
  },
  {
   "cell_type": "markdown",
   "metadata": {},
   "source": [
    "### QAP balancing - $t(x)$ part\n",
    "\n",
    "\n",
    "Our QAP $\\sum\\limits_{i=0}^{m} w_i a_i(x) \\sum\\limits_{i=0}^{m} w_i b_i(x) = \\sum\\limits_{i=0}^{m} w_i c_i(x)$ has an issue.\n",
    "The left term will have a degree greater than the right term.\n",
    "Even if this does not have any impact on the points at which we evaluate those polynomials, we will fix it by adding a *balancing term*.\n",
    "\n",
    "The balancing term is a set of two polynomial $h(x)$ and $Z(x)$ that will be added to the right term:\n",
    "$\\sum\\limits_{i=0}^{m} w_i a_i(x) \\sum\\limits_{i=0}^{m} w_i b_i(x) = \\sum\\limits_{i=0}^{m} w_i c_i(x) + h(x)Z(x)$.\n",
    "\n",
    "$\n",
    "\\begin{aligned}\n",
    "Degree(A(x)) &= m - 1 \\\\\n",
    "Degree(B(x)) &= m - 1 \\\\\n",
    "Degree(C(x)) &= m - 1 \\\\\n",
    "Degree(Z(x)) &= m \\\\\n",
    "Degree(H(x)) &= 2(m - 1) - m = m - 2 \\\\\n",
    "\\end{aligned}\n",
    "$\n",
    "\n",
    "\n",
    "We need this balancing term to be zero at the points we evaluate the polynomials. To do so, we use $t(x)$ as a sort of nullifier.\n",
    "As we evaluate at $x=[1,\\omega, \\ldots, \\omega^{m-1}]$, we can easily find that $Z(x)= (x-1)(x-\\omega)\\ldots(x-\\omega^{m-1})$. Remember that as we are in a finite field, negative values are handled differently.\n",
    "\n",
    "Then, we need to compute $h(x)$:\n",
    "\n",
    "$A(X) \\cdot B(X) - C(X) = 0 \\; \\forall \\; X \\in \\{1, \\omega, \\omega^2, \\cdots, \\omega^{n-1}\\}$\n",
    "\n",
    "The composite polynomial can be constructed from:\n",
    "\n",
    "$\n",
    "f(x) = A(x) \\cdot B(x) - C(x) = 0, \\; \\forall \\; x \\in \\{1, \\omega, \\omega^2, \\cdots, \\omega^{n-1}\\} \\\\\n",
    "Z(x)=(x−1)(x−\\omega) \\cdots (x−\\omega^{n-1}) = x^n - 1 \\\\\n",
    "f(x) = Z(x) \\cdot H(x), \\; \\forall \\; x \\in \\mathbb{F} \\\\\n",
    "A(x) \\cdot B(x) - C(x) = t(x) \\cdot H(x), \\; \\forall \\; x \\in \\mathbb{F} \\\\\n",
    "$"
   ]
  },
  {
   "cell_type": "code",
   "execution_count": 4,
   "metadata": {},
   "outputs": [
    {
     "name": "stdout",
     "output_type": "stream",
     "text": [
      "poly_qap = 5472060717959818834764077864526934228973296163861646887007819555540976572641x^6 + 5472060717959818811622492770471654055631397811449933516338059605094277952886x^5 + 5472060717959818805561601436314318772137091100104008585924551046643952123891x^4 + 16416182153879456387482327880730340859575068236554387456690384631034831922976x^2 + 16416182153879456410623912974785621032916966588966100827360144581481530542731x + 16416182153879456416684804308942956316411273300312025757773653139931856371726\n",
      "poly_z = x^4 + 21888242871839275222246405745257275088548364400416034343698204186575808495616, degree(z) = 4\n",
      "poly_h = 5472060717959818834764077864526934228973296163861646887007819555540976572641x^2 + 5472060717959818811622492770471654055631397811449933516338059605094277952886x + 5472060717959818805561601436314318772137091100104008585924551046643952123891\n"
     ]
    }
   ],
   "source": [
    "poly_z = galois.Poly.Degrees([m, 0], coeffs=([1, -1]), field=GF)\n",
    "\n",
    "poly_qap = A_witness_poly * B_witness_poly - C_witness_poly\n",
    "\n",
    "print(f\"poly_qap = {poly_qap}\")\n",
    "print(f\"poly_z = {poly_z}, degree(z) = {poly_z.degree}\")\n",
    "\n",
    "for i in range(0, m):\n",
    "    x = np.power(omega, i)\n",
    "    assert poly_qap(x) == 0\n",
    "    assert poly_z(x) == 0\n",
    "\n",
    "\n",
    "poly_h = poly_qap // poly_z\n",
    "\n",
    "rem_poly = poly_qap % poly_z\n",
    "assert rem_poly == 0\n",
    "\n",
    "print(f\"poly_h = {poly_h}\")\n",
    "\n",
    "# r must be in the same finite field\n",
    "# GF2 = galois.GF(65537)\n",
    "# r = GF2.Random()\n",
    "\n",
    "r = GF.Random()\n",
    "assert poly_qap(r) == poly_z(r) * poly_h(r)"
   ]
  },
  {
   "cell_type": "markdown",
   "metadata": {},
   "source": [
    "## Trusted Setup\n",
    "\n",
    "### Vanilla Check\n",
    "\n",
    "$A(x) \\cdot B(x) - C(x) = t(x) \\cdot H(x), \\; \\forall \\; x \\in \\mathbb{F}$\n"
   ]
  },
  {
   "cell_type": "code",
   "execution_count": 5,
   "metadata": {},
   "outputs": [
    {
     "name": "stdout",
     "output_type": "stream",
     "text": [
      "trusted setup vanilla check\n",
      "------------------------------\n",
      "toxic waste for tau commitment\n",
      "vanilla check e(A1, B2) == e(C1, G2)\n",
      "------------------------------\n"
     ]
    }
   ],
   "source": [
    "import py_ecc.bn128.bn128_pairing as pairing\n",
    "\n",
    "\n",
    "def commit_poly(poly: galois.Poly, trusted_points, verbose=False):\n",
    "    coeffs = poly.coefficients()[::-1]\n",
    "\n",
    "    assert len(coeffs) <= len(trusted_points)\n",
    "\n",
    "    if verbose:\n",
    "        print(\"trusted points = \")\n",
    "        display(trusted_points)\n",
    "\n",
    "    terms = [\n",
    "        bn128.multiply(trusted_points[i], int(coeff)) for i, coeff in enumerate(coeffs)\n",
    "    ]\n",
    "\n",
    "    evaluation = terms[0]\n",
    "    for term in terms[1:]:\n",
    "        evaluation = bn128.add(evaluation, term)\n",
    "\n",
    "    if verbose:\n",
    "        print(f\"{evaluation}\")\n",
    "    return evaluation\n",
    "\n",
    "\n",
    "# y^2 = x^3 + 3\n",
    "# p = 21888242871839275222246405745257275088548364400416034343698204186575808495617\n",
    "\n",
    "print(\"trusted setup vanilla check\")\n",
    "print(\"-\" * 30)\n",
    "print(\"toxic waste for tau commitment\")\n",
    "# start PHASE I setup\n",
    "tau = GF.Random()\n",
    "# G1[τ^0], G1[τ^1], ..., G1[τ^{m}]]\n",
    "tau_G1 = [bn128.multiply(bn128.G1, int(tau**i)) for i in range(poly_qap.degree + 1)]\n",
    "\n",
    "# G2[τ^0], G2[τ^1], ..., G2[τ^{m}]\n",
    "tau_G2 = [bn128.multiply(bn128.G2, int(tau**i)) for i in range(poly_qap.degree + 1)]\n",
    "\n",
    "commitment_A_G1 = commit_poly(A_witness_poly, tau_G1)\n",
    "commitment_B_G2 = commit_poly(B_witness_poly, tau_G2)\n",
    "commitment_C_G1 = commit_poly(C_witness_poly, tau_G1)\n",
    "\n",
    "# h(x)*z(x)\n",
    "# [τ^0*Z(τ)]G1, [τ^1*Z(τ)]G1, ... [τ^{m-2}*Z(τ)]G1\n",
    "HZ_G1 = [\n",
    "    bn128.multiply(bn128.G1, int(tau**i * poly_z(tau)))\n",
    "    for i in range(poly_h.degree + 1)\n",
    "]\n",
    "\n",
    "commitment_HZ_G1 = commit_poly(poly_h, HZ_G1)\n",
    "commitment_C_G1 = bn128.add(commitment_C_G1, commitment_HZ_G1)\n",
    "\n",
    "print(\"vanilla check e(A1, B2) == e(C1, G2)\")\n",
    "assert pairing.pairing(commitment_B_G2, commitment_A_G1) == pairing.pairing(\n",
    "    bn128.G2, commitment_C_G1\n",
    ")\n",
    "\n",
    "print(\"-\" * 30)"
   ]
  },
  {
   "cell_type": "markdown",
   "metadata": {},
   "source": [
    "## Trusted Setup\n",
    "\n",
    "### Prover Soundness (with $\\alpha$ $\\beta$ security features)\n",
    "\n",
    "When the verifier receives points A, B, and C, they cannot determine if these points are genuine results of an evaluation or merely a trick by the prover. For this very reason, we need to introduce two additional parameters, $\\alpha$ and $\\beta$ as random shift,$\\alpha$ and $\\beta$ EC points are used to avoid an attacker to be able to forge valid proofs for invalid statements. These parameters must be provided by a trusted setup agent. \n",
    "\n",
    "Groth 16 requires sampling three random field elements to generate the proving and verifying key: $\\alpha, \\beta, \\tau$. These are part of **toxic waste** and should be discarded and wholly forgotten once the keys have been generated.\n",
    "\n",
    "Public SRS:\n",
    "- powers of $\\tau$ for $A$:\n",
    "  - $\\{ \\tau^i[G_1]_1 \\}_{i=0}^{i=n-1}$\n",
    "- random shift for $A$:\n",
    "  - [\\alpha G_1]_1\n",
    "- powers of $\\tau$ for $B$:\n",
    "  - $\\{ \\tau^i[G_2]_2 \\}_{i=0}^{i=n-1}$\n",
    "- random shift for $B$:\n",
    "  - $[\\beta G_1]_1$\n",
    "- powers of $\\tau$ for $C$\n",
    "  - $\\{(C_{i} (\\tau) + \\beta A_i (\\tau) + \\alpha B_i (\\tau))[G_1]_1\\}$\n",
    "- powers of $\\tau$ for $h(\\tau)Z_D(\\tau)$ (for prover):\n",
    "  - $Z_k (\\tau) = \\{\\tau^k Z_D(\\tau)[G_1]_1\\} , \\forall \\ k = \\{0, 1, 2, \\ldots, m - 2 \\}$.\n",
    "\n",
    "For Verifier(public input):\n",
    "$K_i^v(\\tau) = (C_{i} (\\tau) + \\beta A_i (\\tau) + \\alpha B_i (\\tau)) g_1, \\forall \\ i = \\{0, 1, 2, \\ldots, k \\}$.\n",
    "\n",
    "For Prover(witness)\n",
    "$K_i^p(\\tau) = (C_{i} (\\tau) + \\beta A_i (\\tau) + \\alpha B_i (\\tau)) g_1,\n",
    "\\forall \\ i = \\{k+1, k+2, \\ldots, n \\}$\n",
    "\n",
    "\n",
    "The proving key consists of the following elements:\n",
    "\n",
    "1.  $[\\alpha G_1]_1$\n",
    "2.  $[\\beta G_1]_1$\n",
    "3.  $[\\beta G_2]_2$\n",
    "4.  $[\\delta G_1]_1$\n",
    "5.  $[\\delta G_2]_2$\n",
    "6.  $[A_0 (\\tau)]_1, [A_1(\\tau)]_1 , \\ldots , [A_n(\\tau)]_1$\n",
    "7.  $[B_0 (\\tau)]_1, [B_1(\\tau)]_1 , \\ldots , [B_n(\\tau)]_1$\n",
    "8.  $[B_0 (\\tau)]_2, [B_1(\\tau)]_2 , \\ldots , [B_n(\\tau)]_2$\n",
    "9.  $[K_{ k + 1 }^p (\\tau)] , [ K_{ k + 2 }^p (\\tau)] , \\ldots , [K_n^p (\\tau)]$\n",
    "10. $[Z_0(\\tau)] , [Z_1(\\tau)] , \\ldots , [ Z_{ m - 1 } (\\tau)]$\n",
    "\n",
    "The verifying key is much shorter and will contain in addition the value of one pairing because that value is constant:\n",
    "\n",
    "1.  $[\\alpha]_1 \\dagger [\\beta]_2$\n",
    "2.  $[\\gamma]_2$\n",
    "3.  $[\\delta]_2$\n",
    "4.  $[K_{0}^{v}(\\tau)]_1, [K_{1}^{v}(\\tau)]_1, \\ldots, [K_{k}^{v}(\\tau)]_1$"
   ]
  },
  {
   "cell_type": "code",
   "execution_count": 6,
   "metadata": {},
   "outputs": [
    {
     "name": "stdout",
     "output_type": "stream",
     "text": [
      "trusted setup phase one\n",
      "------------------------------\n",
      "toxic waste for tau commitment\n",
      "G1 = \n"
     ]
    },
    {
     "data": {
      "text/plain": [
       "[(1, 2),\n",
       " (3310343813350012453172073579812399759121079687906176377182825140169073995334,\n",
       "  17672863612352166519818915341175850089597300240068366169057240681440518840472),\n",
       " (6981922066239633482285637555425687931259815013797141751230825192019759632784,\n",
       "  11727778829703425690795631377810655294629652012230224320663014587276112543120),\n",
       " (16561650847457344121550215058576003274908969694392719332913190934011908566752,\n",
       "  9839328434942511238362542750820588321024424015582665243436998774230227068223),\n",
       " (12930333231870885899615323267072627053279465768996811008374150468553173011545,\n",
       "  6672947933268306567137180340645801669001345861709298074237764922455669486159),\n",
       " (9861703507434402262526561581664746967002111403593258321901490144468879779704,\n",
       "  6320303684482197856778427905333488496649271827169473345795217724840572983923),\n",
       " (20534201710578327053980975883539199471695507048495185120116784846388029607680,\n",
       "  10113278915095273403342506616781165922519609117536408132923126467696199153814)]"
      ]
     },
     "metadata": {},
     "output_type": "display_data"
    },
    {
     "name": "stdout",
     "output_type": "stream",
     "text": [
      "G2 = \n"
     ]
    },
    {
     "data": {
      "text/plain": [
       "[((10857046999023057135944570762232829481370756359578518086990519993285655852781, 11559732032986387107991004021392285783925812861821192530917403151452391805634),\n",
       "  (8495653923123431417604973247489272438418190587263600148770280649306958101930, 4082367875863433681332203403145435568316851327593401208105741076214120093531)),\n",
       " ((7448883114654723318073946176847807726056536537934070256124415333809912649327, 3645717234639632867422508209816997347640573389502328925603597655819516481335),\n",
       "  (3978372668672438823368519726533593508234320403947609736874741929362930497610, 5618155499656725307440188847938419018790372685696250427122648285408237712359)),\n",
       " ((6851016304294767474706615197796235770703967326718527952638487215537695103003, 20921803241168634616767386906699689346085548620797646500818372295571776511891),\n",
       "  (9607563680717805384034046318559593804472501485263273167762603571900036110857, 19181254148771554990155028839695688526791984222940051459187923420195078496223)),\n",
       " ((7361735948797790669228733982937693134894664820431224957595575548535020799553, 20613828904830372045745011059341348927834964710235167329337392082332524335305),\n",
       "  (10600327326715790914679428337015014087642974725216226254734970277920777200145, 18835519835083313774016155601092308636719084065187429641818409080055594315779)),\n",
       " ((21026606188392223942797618892235153009617632946015582395602134360468721629642, 12059075074904515910830845035425530431954133996151723914978210178804993650242),\n",
       "  (3490741135293108125474615345715149025478038193987798757862721234460666009705, 4550152486071624133965878595327484614325876453094954178153146507140737501651)),\n",
       " ((7568492204256189789328350988519077745270951763885732465166445284899724490752, 683984221243054367455734008014045874498533951975051688793376260548027079998),\n",
       "  (20129819395336352801070903104078467949854762179763141666002464579197795183403, 8584170290510597031454391384452330914106464516719575566913427251359627401285)),\n",
       " ((9359879768540144933565035883703455021575869844721907742892452723638075697823, 4766279911971040103715646130685204269740819472675574024704910849752687975709),\n",
       "  (18858216532366726283683988113742319978084376068544919364267941533850286611887, 16627763312082545537399884432021230546302180885176303986743436439886221608949))]"
      ]
     },
     "metadata": {},
     "output_type": "display_data"
    },
    {
     "name": "stdout",
     "output_type": "stream",
     "text": [
      "[alpha]G1\n"
     ]
    },
    {
     "data": {
      "text/plain": [
       "(1939341864252939579544931360573254034718313499292041438205933173189029251662,\n",
       " 11377990350194060953106972543450016851709287965474804646891561821334276582836)"
      ]
     },
     "metadata": {},
     "output_type": "display_data"
    },
    {
     "name": "stdout",
     "output_type": "stream",
     "text": [
      "[beta]G1\n"
     ]
    },
    {
     "data": {
      "text/plain": [
       "(5719968860320533781894905232559401706791583769273280963620368781473397982038,\n",
       " 370200616786733447808930426655362566001335027390796072586730411635552711324)"
      ]
     },
     "metadata": {},
     "output_type": "display_data"
    },
    {
     "name": "stdout",
     "output_type": "stream",
     "text": [
      "[beta]G2\n"
     ]
    },
    {
     "data": {
      "text/plain": [
       "((19405322190889616733420350200394569227307847354247638062883832783460004532826, 10113638745026609873134454240944281047218821817006131873702865422959053327106),\n",
       " (1621411394644423920566218233938624324158132701090411425380355705292343527903, 380724522602176892566374796900788264257168664173872029970988636425698144225))"
      ]
     },
     "metadata": {},
     "output_type": "display_data"
    },
    {
     "name": "stdout",
     "output_type": "stream",
     "text": [
      "------------------------------\n",
      "trusted setup phase two\n",
      "------------------------------\n",
      " [K]G1\n"
     ]
    },
    {
     "data": {
      "text/plain": [
       "[(16013072081625774486478422251104372492259058609112414148296598570909516007152,\n",
       "  10504586258872831961426685084594372045575807569561526947638446479784087006246),\n",
       " (619782576310242571604499376367801696654254373306766685458104868421291426660,\n",
       "  10311289634261744140978972911607785984279824658274864073716004649866555726718),\n",
       " (5253942016711780316133708778228852840391300249186461526754586631353773216445,\n",
       "  555334434687879297194764938712095373048815024867617382590319492952766911608),\n",
       " (19290171659764672111631952234670916436769458508045521333026396113185467453190,\n",
       "  4530670199163597009737967538320601302985689521483636831248622512831289640504),\n",
       " (97040015648526193123982698947730706637520667040200105070289627538705424628,\n",
       "  14967267559162315593339788518977233562731559368454557998493777727604564440649),\n",
       " (9323810696165403436675008043491938001952254938172360537467703587661076357789,\n",
       "  2617747047105460965143774608247367288066352380133711252941327766510744841882)]"
      ]
     },
     "metadata": {},
     "output_type": "display_data"
    },
    {
     "name": "stdout",
     "output_type": "stream",
     "text": [
      "[tau**i * Z(tau)]G1\n"
     ]
    },
    {
     "data": {
      "text/plain": [
       "[(5610389789189384874297361062900620045098136214017482324614279308887137680268,\n",
       "  16700735501301959812280412518643161716287832890640043131240834401913633070086),\n",
       " (12612536134542115364574480046839646022485974118289680512608028885896101763447,\n",
       "  13709574124631114877487716111882962132053502847075975876347683013600258306477),\n",
       " (18443286757739264553595983722740362857304635798514428524579833960929152718198,\n",
       "  18862678721798799673631126782257755349134872616404893022145628530082591566542)]"
      ]
     },
     "metadata": {},
     "output_type": "display_data"
    },
    {
     "name": "stdout",
     "output_type": "stream",
     "text": [
      "------------------------------\n"
     ]
    }
   ],
   "source": [
    "# y^2 = x^3 + 3\n",
    "# p = 21888242871839275222246405745257275088548364400416034343698204186575808495617\n",
    "\n",
    "print(\"trusted setup phase one\")\n",
    "print(\"-\" * 30)\n",
    "print(\"toxic waste for tau commitment\")\n",
    "# start PHASE I setup\n",
    "tau = GF.Random()\n",
    "# G1[τ^0], G1[τ^1], ..., G1[τ^{m}]]\n",
    "tau_G1 = [bn128.multiply(bn128.G1, int(tau**i)) for i in range(poly_qap.degree + 1)]\n",
    "print(\"G1 = \")\n",
    "display(tau_G1)\n",
    "\n",
    "# G2[τ^0], G2[τ^1], ..., G2[τ^{m}]\n",
    "tau_G2 = [bn128.multiply(bn128.G2, int(tau**i)) for i in range(poly_qap.degree + 1)]\n",
    "print(\"G2 = \")\n",
    "display(tau_G2)\n",
    "\n",
    "alpha = GF.Random()\n",
    "alpha_G1 = bn128.multiply(bn128.G1, int(alpha))\n",
    "print(\"[alpha]G1\")\n",
    "display(alpha_G1)\n",
    "\n",
    "beta = GF.Random()\n",
    "beta_G1 = bn128.multiply(bn128.G1, int(beta))\n",
    "beta_G2 = bn128.multiply(bn128.G2, int(beta))\n",
    "print(\"[beta]G1\")\n",
    "display(beta_G1)\n",
    "print(\"[beta]G2\")\n",
    "display(beta_G2)\n",
    "\n",
    "print(\"-\" * 30)\n",
    "# end PHASE I setup\n",
    "\n",
    "# PHASE II setup\n",
    "print(\"trusted setup phase two\")\n",
    "print(\"-\" * 30)\n",
    "\n",
    "constraint_poly_a_vector = constraint_poly_vectors[0]\n",
    "constraint_poly_b_vector = constraint_poly_vectors[1]\n",
    "constraint_poly_c_vector = constraint_poly_vectors[2]\n",
    "\n",
    "# compute poly K on behalf of prover/verifier since prover/verifier does not know alpha and beta\n",
    "# K_i(\\tau) = (C_{i} (\\tau) + \\beta A_i (\\tau) + \\alpha B_i (\\tau))\n",
    "k_commitment_vector = []\n",
    "for i in range(len(constraint_poly_c_vector)):\n",
    "    cm = bn128.Z1\n",
    "    cm = bn128.add(cm, commit_poly(constraint_poly_c_vector[i], tau_G1))\n",
    "    cm = bn128.add(\n",
    "        cm, bn128.multiply(commit_poly(constraint_poly_a_vector[i], tau_G1), int(beta))\n",
    "    )\n",
    "    cm = bn128.add(\n",
    "        cm,\n",
    "        bn128.multiply(commit_poly(constraint_poly_b_vector[i], tau_G1), int(alpha)),\n",
    "    )\n",
    "    k_commitment_vector.append(cm)\n",
    "\n",
    "k_commitment_vector_1 = []\n",
    "for i in range(len(constraint_poly_c_vector)):\n",
    "    poly = (\n",
    "        constraint_poly_c_vector[i]\n",
    "        + beta * constraint_poly_a_vector[i]\n",
    "        + alpha * constraint_poly_b_vector[i]\n",
    "    )\n",
    "    cm = commit_poly(poly, tau_G1)\n",
    "    k_commitment_vector_1.append(cm)\n",
    "\n",
    "k_commitment_vector_2 = []\n",
    "for i in range(len(constraint_poly_c_vector)):\n",
    "    poly = (\n",
    "        constraint_poly_c_vector[i]\n",
    "        + beta * constraint_poly_a_vector[i]\n",
    "        + alpha * constraint_poly_b_vector[i]\n",
    "    )\n",
    "    cm = bn128.multiply(bn128.G1, int(poly(tau)))\n",
    "    k_commitment_vector_2.append(cm)\n",
    "\n",
    "assert k_commitment_vector == k_commitment_vector_1\n",
    "assert k_commitment_vector == k_commitment_vector_2\n",
    "print(\" [K]G1\")\n",
    "display(k_commitment_vector)\n",
    "\n",
    "# For prover, calculate \\tau^k \\cdot Z_k(\\tau) [G_1]_1\n",
    "commitment_z = commit_poly(poly_z, tau_G1)\n",
    "commitment_tau_z_vector = []\n",
    "for i in range(poly_h.degree + 1):\n",
    "    cm = bn128.multiply(commitment_z, int(tau**i))\n",
    "    commitment_tau_z_vector.append(cm)\n",
    "\n",
    "HZ_G1 = [\n",
    "    bn128.multiply(bn128.G1, int(tau**i * poly_z(tau)))\n",
    "    for i in range(poly_h.degree + 1)\n",
    "]\n",
    "\n",
    "assert HZ_G1 == commitment_tau_z_vector\n",
    "\n",
    "print(\"[tau**i * Z(tau)]G1\")\n",
    "display(commitment_tau_z_vector)\n",
    "print(\"-\" * 30)\n",
    "# end of PHASE II setup"
   ]
  },
  {
   "cell_type": "markdown",
   "metadata": {},
   "source": [
    "## Prover Part (No Zero Knowledge)\n",
    "\n",
    "Because we introduce these shifts, we need to modify the equation\n",
    "\n",
    "$\n",
    "\\underbrace{\\left( \\alpha + \\sum_{j} A_{j} (x) z_j \\right)}_{A} \\underbrace{\\left( \\beta + \\sum_j B_{j} (x) z_j \\right)}_{B} \\\\\n",
    "= \\alpha \\beta + \\alpha \\sum_j B_{j} (x) z_j + \\beta \\sum_{j} A_{j} (x) z_j + \\underline{\\sum_{j} A_{j} (x) z_j \\sum_j B_{j} (x) z_j} \\\\\n",
    "= \\alpha \\beta + \\alpha \\sum_j B_{j} (x) z_j + \\beta \\sum_{j} A_{j} (x) z_j + {\\sum_k C_{k} (x) z_k + h(x)Z_D(x)} \\\\\n",
    "= \\alpha \\beta + \\underbrace{\\gamma \\left( \\sum_{i = 0}^{i = k - 1} \\gamma^{-1} (C_{i} (x) + \\beta A_i (x) + \\alpha B_i (x)) z_i \\right)}_{\\text{public input}} + \\underbrace{\\delta \\left( \\sum_{j = k}^{j = n - 1} \\delta^{- 1} (C_{j}(x) + \\beta A_j(x) + \\alpha B_j(x)) z_j \\right)}_{\\text{private input}} + \\delta (\\delta^{-1} h(x) Z_D(x)) \\\\\n",
    "= \\alpha \\beta + \\underbrace{\\gamma \\left( \\sum_{i = 0}^{i = k - 1} \\gamma^{-1} (C_{i} (x) + \\beta A_i (x) + \\alpha B_i (x)) z_i \\right)}_{\\text{public input}} + \\underbrace{\\delta \\left( \\sum_{j = k}^{j = n - 1} \\delta^{- 1} (C_{j}(x) + \\beta A_j(x) + \\alpha B_j(x)) z_j + \\delta^{-1} h(x) Z_D(x)\\right)}_{\\text{private input}}  \\\\\n",
    "$\n",
    "\n",
    "To ensure that the proof is zero-knowledge, the prover sample two random scalars, $r$ and $s$ to prevent verifier from guessing witness values.\n",
    "\n",
    "The prover can compute the three elements of the proof, $\\pi = ([\\pi_1 ]_1 , [\\pi_2 ]_2 , [\\pi_3 ]_1)$ by doing the following calculations:\n",
    "\n",
    "$\n",
    "[\\pi_1 ]_1 = [\\alpha]_1 + \\sum z_k [A_k(\\tau)]_1 \\\\\n",
    "[\\pi_2 ]_2 = [\\beta]_2 + \\sum z_k [B_k(\\tau)]_2 \\\\\n",
    "[\\pi_2 ]_1 = [\\beta]_1 + \\sum z_k [B_k(\\tau)]_1  \\\\\n",
    "[\\delta^{-1} \\cdot h(t)z(\\tau)]_1 = \\delta^{-1} \\cdot \\sum h_i [\\tau^{i}Z_i (\\tau)]_1 \\\\\n",
    "[\\pi_3 ]_1 = \\sum w_i [K_i^p ]_1 + [\\delta^{-1}h(\\tau)z(\\tau)]_1\n",
    "$"
   ]
  },
  {
   "cell_type": "code",
   "execution_count": 7,
   "metadata": {},
   "outputs": [
    {
     "name": "stdout",
     "output_type": "stream",
     "text": [
      "\n",
      "Prover generate proof\n",
      "\n",
      "------------------------------\n",
      "\n",
      "generate gamma and delta to differentiate public and private witness\n",
      "\n",
      "[pi1]G1 =  (10718595111368112521941806878916262421202585780472388992125838874357356608945, 363374329349765577935555970266930996896401143371839896591740180036631734683)\n",
      "[pi2]G2 =  ((20588936413971171589143658175627920544663041718868269382857568754006364419347, 7087614294939287886386872230450307984126485028177904335147619027936498192400), (17578763278547485903077312475638831386831876641591214528595214802464546599079, 19013408912221019298667073993517416034544594269939877148954592411470208463593))\n",
      "[pi3]G1 =  (17222019539406291029296543390180257138666061813012071498311710363572822004985, 3686666225864009517165691898701586204110409635872985670895597077117429229126)\n",
      "[delta]G1 =  (5819078839081810986254726647090530036068392631363692034482460911902998394226, 8080966965814537226332416263223742691030723102976522483693832257512345530293)\n",
      "[delta]G2 =  ((8031436799880353502370944094130661509289397422753368295417818864544915401926, 17673638702227110850203425488868838396577674894618022192807800684782337413222), (13288612460375556781327492081078298279723137047272201606917514249969809577348, 11788336304154117759770987327839796319534147942294269473996620883592992314679))\n"
     ]
    }
   ],
   "source": [
    "# Prover generate proof\n",
    "print(\"\\nProver generate proof\\n\")\n",
    "print(\"-\" * 30)\n",
    "gamma = GF.Random()\n",
    "delta = GF.Random()\n",
    "\n",
    "print(\"\\ngenerate gamma and delta to differentiate public and private witness\\n\")\n",
    "\n",
    "delta_G1 = bn128.multiply(bn128.G1, int(delta))\n",
    "delta_G2 = bn128.multiply(bn128.G2, int(delta))\n",
    "\n",
    "\n",
    "# pi1_G1 = (alpha + A(x)) [G_1]_1\n",
    "pi1_G1 = alpha_G1\n",
    "A_witness_commitment_G1 = commit_poly(A_witness_poly, tau_G1)\n",
    "pi1_G1 = bn128.add(pi1_G1, A_witness_commitment_G1)\n",
    "\n",
    "# pi2_G2 = (beta + B(x)) [G_2]_2\n",
    "pi2_G2 = beta_G2\n",
    "B_witness_commitment_G2 = commit_poly(B_witness_poly, tau_G2)\n",
    "pi2_G2 = bn128.add(pi2_G2, B_witness_commitment_G2)\n",
    "\n",
    "ell = 2  # number of public input in witness vector, {1, out}\n",
    "\n",
    "\n",
    "# pi3_G1 = delta^-1 * (private k_commitment * z_i  + h(tau)z(tau))\n",
    "\n",
    "C2_G1 = bn128.Z1\n",
    "# K_v * witness\n",
    "for i in range(ell, len(k_commitment_vector)):\n",
    "    entry = bn128.multiply(k_commitment_vector[i], int(w[i]))\n",
    "    C2_G1 = bn128.add(C2_G1, entry)\n",
    "\n",
    "C2_G1 = bn128.multiply(C2_G1, int(delta**-1))\n",
    "\n",
    "# \\delta^{-1} h(tau)Z(tau)[G_1]_1\n",
    "hz_G1 = commit_poly(poly_h, commitment_tau_z_vector)\n",
    "hz_G1 = bn128.multiply(hz_G1, int(delta**-1))\n",
    "\n",
    "pi3_G1 = bn128.add(C2_G1, hz_G1)\n",
    "\n",
    "print(\"[pi1]G1 = \", pi1_G1)\n",
    "print(\"[pi2]G2 = \", pi2_G2)\n",
    "print(\"[pi3]G1 = \", pi3_G1)\n",
    "\n",
    "print(\"[delta]G1 = \", delta_G1)\n",
    "print(\"[delta]G2 = \", delta_G2)"
   ]
  },
  {
   "cell_type": "markdown",
   "metadata": {},
   "source": [
    "## Verifier Part (No Zero Knowledge)\n",
    "\n",
    "$\n",
    "[\\pi_1]_1 \\dagger [\\pi_2]_2 \\stackrel{?}{=} [\\alpha]_1 \\dagger [\\beta]_2 * [C_1]_1 \\dagger [\\gamma]_2 * [\\pi_3]_1 \\dagger [\\delta]_2\n",
    "$"
   ]
  },
  {
   "cell_type": "code",
   "execution_count": 8,
   "metadata": {},
   "outputs": [
    {
     "name": "stdout",
     "output_type": "stream",
     "text": [
      "\n",
      "Proof Verification\n",
      "--------------------\n"
     ]
    }
   ],
   "source": [
    "import py_ecc.bn128 as bn128\n",
    "import py_ecc.bn128.bn128_pairing as pairing\n",
    "\n",
    "print(\"\\nProof Verification\")\n",
    "print(\"-\" * 20)\n",
    "\n",
    "C1_G1 = bn128.Z1\n",
    "for i in range(ell):\n",
    "    entry = bn128.multiply(k_commitment_vector[i], int(w[i]))\n",
    "    C1_G1 = bn128.add(C1_G1, entry)\n",
    "C1_G1 = bn128.multiply(C1_G1, int(gamma**-1))\n",
    "\n",
    "gamma_G2 = bn128.multiply(bn128.G2, int(gamma))\n",
    "\n",
    "assert pairing.pairing(pi2_G2, pi1_G1) == (\n",
    "    pairing.pairing(beta_G2, alpha_G1)\n",
    "    * pairing.pairing(gamma_G2, C1_G1)\n",
    "    * pairing.pairing(delta_G2, pi3_G1)\n",
    "), \"Pairing check failed\""
   ]
  },
  {
   "cell_type": "markdown",
   "metadata": {},
   "source": [
    "## Prover Part (With Zero Knowledge)\n",
    "\n",
    "To ensure that the proof is zero-knowledge, the prover sample two random scalars, $r$ and $s$.\n",
    "\n",
    "The prover can compute the three elements of the proof, $\\pi = ([\\pi_1 ]_1 , [\\pi_2 ]_2 , [\\pi_3 ]_1)$ by doing the following calculations:\n",
    "\n",
    "$\n",
    "[\\pi_1 ]_1 = [\\alpha]_1 + \\sum z_k [A_k(\\tau)]_1 + r [\\delta]_1 \\\\\n",
    "[\\pi_2 ]_2 = [\\beta]_2 + \\sum z_k [B_k(\\tau)]_2 + s[\\delta]_2 \\\\\n",
    "[\\pi_2 ]_1 = [\\beta]_1 + \\sum z_k [B_k(\\tau)]_1 + s[\\delta]_1 \\\\\n",
    "[\\delta^{-1} \\cdot h(t)z(\\tau)]_1 = \\delta^{-1} \\cdot \\sum h_i [\\tau^{i}Z_i (\\tau)]_1 \\\\\n",
    "[\\pi_3 ]_1 = \\sum w_i [K_i^p ]_1 + [\\delta^{-1}h(\\tau)z(\\tau)]_1 + s[\\pi_1 ]_1 + r [\\pi_2 ]_1 - rs [\\delta]_1\n",
    "$"
   ]
  },
  {
   "cell_type": "code",
   "execution_count": 9,
   "metadata": {},
   "outputs": [
    {
     "name": "stdout",
     "output_type": "stream",
     "text": [
      "\n",
      "Prover generate proof\n",
      "\n",
      "------------------------------\n",
      "\n",
      "generate gamma and delta to differentiate public and private witness\n",
      "\n",
      "[π1]G1:  (15684943727443821256117791169340323818339980784270053105095118833365005412327, 10679997383457523051382868102129192021840584142313769888512456927250074243398)\n",
      "[pi1]G1 =  (15684943727443821256117791169340323818339980784270053105095118833365005412327, 10679997383457523051382868102129192021840584142313769888512456927250074243398)\n",
      "[pi2]G2 =  ((15976323390082003237185140221851220295395261234139993787468341012897937073698, 6190576918801488629916638272648464140116987641560229042143635483569534554729), (21769405015677950937942572132185609855886621743636928318835413876693851020964, 8277493466588703105941139510309914099486039602912975180704576296457524146672))\n",
      "[pi3]G1 =  (6111768291579157929610418207914469442012826078978922547643346854848061164089, 18042066836860712557049150602138142518885603716478273628035652497937804185579)\n",
      "[delta]G1 =  (21635396538531816202260183996680426834939523467427783732833395948923968688594, 16288025981563196382284740961353122417404945743881769299692577156109334974747)\n",
      "[delta]G2 =  ((21878201887563507100814507597252125644953464124686267147065620792359446686055, 19957426902225508228891107351265418325589444979167388711744406153075937205526), (9244263578688915705608817619311823487376187259456943194656484653779428997328, 19072846047001524500684897203125907826391711950682128371481995187714992154697))\n"
     ]
    }
   ],
   "source": [
    "# Prover generate proof\n",
    "print(\"\\nProver generate proof\\n\")\n",
    "print(\"-\" * 30)\n",
    "gamma = GF.Random()\n",
    "delta = GF.Random()\n",
    "r = GF.Random()\n",
    "s = GF.Random()\n",
    "\n",
    "# r = random.getrandbits(256)\n",
    "# r = r % bn128.curve_order\n",
    "\n",
    "print(\"\\ngenerate gamma and delta to differentiate public and private witness\\n\")\n",
    "\n",
    "delta_G1 = bn128.multiply(bn128.G1, int(delta))\n",
    "delta_G2 = bn128.multiply(bn128.G2, int(delta))\n",
    "\n",
    "assert bn128.multiply(bn128.G1, int(r * delta)) == bn128.multiply(delta_G1, int(r))\n",
    "assert bn128.multiply(bn128.neg(bn128.G1), int(r * s * delta)) == bn128.multiply(\n",
    "    delta_G1, int(-r * s)\n",
    ")\n",
    "\n",
    "# pi1_G1 = (alpha + A(x) + r \\delta) [G_1]_1\n",
    "pi1_G1 = alpha_G1\n",
    "A_witness_commitment_G1 = commit_poly(A_witness_poly, tau_G1)\n",
    "pi1_G1 = bn128.add(pi1_G1, A_witness_commitment_G1)\n",
    "pi1_G1 = bn128.add(pi1_G1, bn128.multiply(delta_G1, int(r)))\n",
    "print(f\"[{chr(960)}1]G1: \", pi1_G1)\n",
    "\n",
    "# pi2_G1 = (beta + B(x) + s \\delta) [G_1]_1\n",
    "pi2_G1 = beta_G1\n",
    "B_witness_commitment_G1 = commit_poly(B_witness_poly, tau_G1)\n",
    "pi2_G1 = bn128.add(pi2_G1, B_witness_commitment_G1)\n",
    "pi2_G1 = bn128.add(pi2_G1, bn128.multiply(delta_G1, int(s)))\n",
    "\n",
    "# pi2_G2 = (beta + B(x) + s \\delta) [G_2]_2\n",
    "pi2_G2 = beta_G2\n",
    "B_witness_commitment_G2 = commit_poly(B_witness_poly, tau_G2)\n",
    "pi2_G2 = bn128.add(pi2_G2, B_witness_commitment_G2)\n",
    "pi2_G2 = bn128.add(pi2_G2, bn128.multiply(delta_G2, int(s)))\n",
    "\n",
    "k = 2  # number of public input in witness vector, {1, out}\n",
    "\n",
    "# pi3_G1 = private k_commitment * z_i * delta^-1 + h(tau)z(tau) + delta(s * pi1 + r * pi2 - r*s*delta)\n",
    "\n",
    "private_C_G1 = bn128.Z1\n",
    "# K_v * witness\n",
    "for i in range(k, len(k_commitment_vector)):\n",
    "    entry = bn128.multiply(k_commitment_vector[i], int(w[i]))\n",
    "    private_C_G1 = bn128.add(private_C_G1, entry)\n",
    "\n",
    "private_C_G1 = bn128.multiply(private_C_G1, int(delta**-1))\n",
    "\n",
    "# \\delta^{-1} h(tau)Z(tau)[G_1]_1\n",
    "hz_G1 = commit_poly(poly_h, commitment_tau_z_vector)\n",
    "hz_G1 = bn128.multiply(hz_G1, int(delta**-1))\n",
    "\n",
    "cross_G1 = bn128.Z1\n",
    "cross_G1 = bn128.add(cross_G1, bn128.multiply(pi1_G1, int(s)))\n",
    "cross_G1 = bn128.add(cross_G1, bn128.multiply(pi2_G1, int(r)))\n",
    "cross_G1 = bn128.add(cross_G1, bn128.multiply(delta_G1, int(-r * s)))\n",
    "\n",
    "pi3_G1 = bn128.add(private_C_G1, hz_G1)\n",
    "pi3_G1 = bn128.add(pi3_G1, cross_G1)\n",
    "\n",
    "print(\"[pi1]G1 = \", pi1_G1)\n",
    "print(\"[pi2]G2 = \", pi2_G2)\n",
    "print(\"[pi3]G1 = \", pi3_G1)\n",
    "\n",
    "print(\"[delta]G1 = \", delta_G1)\n",
    "print(\"[delta]G2 = \", delta_G2)"
   ]
  },
  {
   "cell_type": "markdown",
   "metadata": {},
   "source": [
    "## Verifier Part\n",
    "\n",
    "$\n",
    "[\\pi_1]_1 \\dagger [\\pi_2]_2 \\stackrel{?}{=} [\\alpha]_1 \\dagger [\\beta]_2 * [C_1]_1 \\dagger [\\gamma]_2 * [\\pi_3]_1 \\dagger [\\delta]_2\n",
    "$"
   ]
  },
  {
   "cell_type": "code",
   "execution_count": 10,
   "metadata": {},
   "outputs": [
    {
     "name": "stdout",
     "output_type": "stream",
     "text": [
      "\n",
      "Proof Verification\n",
      "--------------------\n"
     ]
    }
   ],
   "source": [
    "import py_ecc.bn128 as bn128\n",
    "import py_ecc.bn128.bn128_pairing as pairing\n",
    "\n",
    "print(\"\\nProof Verification\")\n",
    "print(\"-\" * 20)\n",
    "\n",
    "public_C_G1 = bn128.Z1\n",
    "for i in range(k):\n",
    "    entry = bn128.multiply(k_commitment_vector[i], int(w[i]))\n",
    "    public_C_G1 = bn128.add(public_C_G1, entry)\n",
    "public_C_G1 = bn128.multiply(public_C_G1, int(gamma**-1))\n",
    "\n",
    "gamma_G2 = bn128.multiply(bn128.G2, int(gamma))\n",
    "\n",
    "assert pairing.pairing(pi2_G2, pi1_G1) == (\n",
    "    pairing.pairing(beta_G2, alpha_G1)\n",
    "    * pairing.pairing(gamma_G2, public_C_G1)\n",
    "    * pairing.pairing(delta_G2, pi3_G1)\n",
    "), \"Pairing check failed\""
   ]
  }
 ],
 "metadata": {
  "kernelspec": {
   "display_name": "Python 3",
   "language": "python",
   "name": "python3"
  },
  "language_info": {
   "codemirror_mode": {
    "name": "ipython",
    "version": 3
   },
   "file_extension": ".py",
   "mimetype": "text/x-python",
   "name": "python",
   "nbconvert_exporter": "python",
   "pygments_lexer": "ipython3",
   "version": "3.12.3"
  }
 },
 "nbformat": 4,
 "nbformat_minor": 2
}
